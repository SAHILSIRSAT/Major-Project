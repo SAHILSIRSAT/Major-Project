{
 "cells": [
  {
   "cell_type": "code",
   "execution_count": null,
   "metadata": {},
   "outputs": [],
   "source": [
    "ser.close()"
   ]
  },
  {
   "cell_type": "code",
   "execution_count": null,
   "metadata": {},
   "outputs": [],
   "source": [
    "import serial\n",
    "import time\n",
    "import datetime\n",
    "import pandas as pd\n",
    "\n"
   ]
  },
  {
   "cell_type": "code",
   "execution_count": null,
   "metadata": {},
   "outputs": [],
   "source": [
    "starttime = time.time()\n",
    "while True:\n",
    "    print (\"tick\")\n",
    "    ser = serial.Serial(port='COM3', baudrate=9600)\n",
    "    data=[]\n",
    "    time=[]\n",
    "    print(\"connected to: \" + ser.portstr)\n",
    "    i=0\n",
    "    while i<5:\n",
    "        line = ser.readline()\n",
    "        string_n = line.decode()  # decode byte string into Unicode  \n",
    "        string = string_n.rstrip() # remove \\n and \\r\n",
    "        flt = float(string)        # convert string to float\n",
    "        timestamp = str(datetime.datetime.now())\n",
    "        #timestamp = str(datetime.datetime.fromtimestamp(time.time()).strftime('%Y-%m-%d %H:%M:%S'))\n",
    "        data.append(f'{flt}')\n",
    "        time.append(timestamp)\n",
    "        i+=1\n",
    "\n",
    "    ser.close()\n",
    "    time.sleep(10.0 - ((time.time() - starttime) % 10.0))\n",
    "    df = pd.DataFrame(list(zip(time, data)),\n",
    "               columns =['time', 'data'])\n",
    "    print(df)"
   ]
  },
  {
   "cell_type": "markdown",
   "metadata": {},
   "source": [
    "ser = serial.Serial(\n",
    "    port='COM3',\n",
    "    baudrate=9600)\n",
    "data=[]\n",
    "time=[]\n",
    "print(\"connected to: \" + ser.portstr)\n",
    "i=0\n",
    "while i<50:\n",
    "    line = ser.readline()\n",
    "    string_n = line.decode()  # decode byte string into Unicode  \n",
    "    string = string_n.rstrip() # remove \\n and \\r\n",
    "    flt = float(string)        # convert string to float\n",
    "    timestamp = str(datetime.datetime.now())\n",
    "    #timestamp = str(datetime.datetime.fromtimestamp(time.time()).strftime('%Y-%m-%d %H:%M:%S'))\n",
    "    data.append(f'{flt}')\n",
    "    time.append(timestamp)\n",
    "\n",
    "    #with open('output.txt', 'a') as pyfile:\n",
    "        #pyfile.write(f'{flt}' + ' ' + timestamp +'\\n')\n",
    "    i+=1\n",
    "\n",
    "ser.close()"
   ]
  },
  {
   "cell_type": "markdown",
   "metadata": {},
   "source": [
    "df = pd.DataFrame(list(zip(time, data)),\n",
    "               columns =['time', 'data'])"
   ]
  },
  {
   "cell_type": "code",
   "execution_count": null,
   "metadata": {
    "scrolled": false
   },
   "outputs": [],
   "source": [
    "df"
   ]
  },
  {
   "cell_type": "code",
   "execution_count": null,
   "metadata": {},
   "outputs": [],
   "source": [
    "line"
   ]
  },
  {
   "cell_type": "code",
   "execution_count": null,
   "metadata": {},
   "outputs": [],
   "source": []
  },
  {
   "cell_type": "code",
   "execution_count": null,
   "metadata": {},
   "outputs": [],
   "source": []
  },
  {
   "cell_type": "code",
   "execution_count": null,
   "metadata": {},
   "outputs": [],
   "source": []
  },
  {
   "cell_type": "code",
   "execution_count": null,
   "metadata": {},
   "outputs": [],
   "source": [
    "import time\n",
    "starttime = time.time()\n",
    "while True:\n",
    "    print (\"tick\")\n",
    "    time.sleep(30.0 - ((time.time() - starttime) % 30.0))"
   ]
  }
 ],
 "metadata": {
  "kernelspec": {
   "display_name": "Python 3",
   "language": "python",
   "name": "python3"
  },
  "language_info": {
   "codemirror_mode": {
    "name": "ipython",
    "version": 3
   },
   "file_extension": ".py",
   "mimetype": "text/x-python",
   "name": "python",
   "nbconvert_exporter": "python",
   "pygments_lexer": "ipython3",
   "version": "3.6.6"
  }
 },
 "nbformat": 4,
 "nbformat_minor": 4
}
